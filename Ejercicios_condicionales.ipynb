{
  "nbformat": 4,
  "nbformat_minor": 0,
  "metadata": {
    "colab": {
      "provenance": [],
      "authorship_tag": "ABX9TyP+P0vOU5b6sau0JbvqC8VJ",
      "include_colab_link": true
    },
    "kernelspec": {
      "name": "python3",
      "display_name": "Python 3"
    },
    "language_info": {
      "name": "python"
    }
  },
  "cells": [
    {
      "cell_type": "markdown",
      "metadata": {
        "id": "view-in-github",
        "colab_type": "text"
      },
      "source": [
        "<a href=\"https://colab.research.google.com/github/SOSAPANTA/EJERCICIOS/blob/main/Ejercicios_condicionales.ipynb\" target=\"_parent\"><img src=\"https://colab.research.google.com/assets/colab-badge.svg\" alt=\"Open In Colab\"/></a>"
      ]
    },
    {
      "cell_type": "code",
      "execution_count": null,
      "metadata": {
        "colab": {
          "base_uri": "https://localhost:8080/"
        },
        "id": "tg8XFO0CtFs9",
        "outputId": "fadf0ad6-f3fa-41b0-d5da-85d53c6d4ab4"
      },
      "outputs": [
        {
          "output_type": "stream",
          "name": "stdout",
          "text": [
            "A\n"
          ]
        }
      ],
      "source": [
        "A = True\n",
        "\n",
        "if a:\n",
        "  print(\"A\")\n",
        "\n",
        "else:\n",
        "  Print(\"F\")\n"
      ]
    },
    {
      "cell_type": "code",
      "source": [
        "A = True\n",
        "B = False\n",
        "\n",
        "if A:\n",
        "  print( \"Verdadero\")\n",
        "elif B:\n",
        "  print(\"verdadero\")\n",
        "else:\n",
        "  print(\"Both False\")"
      ],
      "metadata": {
        "colab": {
          "base_uri": "https://localhost:8080/"
        },
        "id": "4QX5wHLVxSEK",
        "outputId": "3ab420c4-4f18-4aea-a777-4e33ab3a7e2b"
      },
      "execution_count": 1,
      "outputs": [
        {
          "output_type": "stream",
          "name": "stdout",
          "text": [
            "Verdadero\n"
          ]
        }
      ]
    },
    {
      "cell_type": "code",
      "source": [
        "A=False\n",
        "B=True\n",
        "\n",
        "if A:\n",
        "  if B:\n",
        "    print(\"A and B are tre\")\n",
        "  else:\n",
        "    print(\"A is true, but B is False\")\n",
        "else:\n",
        "  print(\"Only B is true\")"
      ],
      "metadata": {
        "colab": {
          "base_uri": "https://localhost:8080/"
        },
        "id": "d3sV36H5zMdT",
        "outputId": "4ef486a7-e71d-40fd-b028-91d263f07eaf"
      },
      "execution_count": 2,
      "outputs": [
        {
          "output_type": "stream",
          "name": "stdout",
          "text": [
            "Only B is true\n"
          ]
        }
      ]
    },
    {
      "cell_type": "code",
      "source": [
        "A = 3\n",
        "B = 3\n",
        "if A != B:\n",
        "  print(\"Los números son diferentes\")\n",
        "else:\n",
        "  print(\"Los números son iguales\")"
      ],
      "metadata": {
        "colab": {
          "base_uri": "https://localhost:8080/"
        },
        "id": "TtK5hvqJ-k2K",
        "outputId": "a30e4663-2ccd-4d9b-a1e9-a161ec9d934d"
      },
      "execution_count": null,
      "outputs": [
        {
          "output_type": "stream",
          "name": "stdout",
          "text": [
            "Los números son iguales\n"
          ]
        }
      ]
    },
    {
      "cell_type": "code",
      "source": [
        "a = 1\n",
        "b = 2\n",
        "c = 1\n",
        "\n",
        "if a<b<c:\n",
        "  print(\"a, b, c están en orden ascendente\")\n",
        "elif a>b>c:\n",
        "  print(\"Estén en orden descendente\")\n",
        "else:\n",
        "  print(\"No tienen orden\")"
      ],
      "metadata": {
        "colab": {
          "base_uri": "https://localhost:8080/"
        },
        "id": "-LHya1jH_awI",
        "outputId": "7679baa9-553d-4df2-d381-97e1e6cd9297"
      },
      "execution_count": null,
      "outputs": [
        {
          "output_type": "stream",
          "name": "stdout",
          "text": [
            "No tienen orden\n"
          ]
        }
      ]
    },
    {
      "cell_type": "code",
      "source": [
        "a = 4\n",
        "b = 4\n",
        "\n",
        "if a == b:\n",
        "  print(\"The numbers are equal.\\n\")"
      ],
      "metadata": {
        "colab": {
          "base_uri": "https://localhost:8080/"
        },
        "id": "0IaIjpCD_pB2",
        "outputId": "75d7f970-4cc4-407d-923a-aa4f1736486e"
      },
      "execution_count": null,
      "outputs": [
        {
          "output_type": "stream",
          "name": "stdout",
          "text": [
            "The numbers are equal.\n",
            "\n"
          ]
        }
      ]
    }
  ]
}