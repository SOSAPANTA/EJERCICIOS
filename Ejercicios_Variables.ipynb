{
  "nbformat": 4,
  "nbformat_minor": 0,
  "metadata": {
    "colab": {
      "provenance": [],
      "authorship_tag": "ABX9TyNWhaY4O2kn9QEIGRTkDGpT",
      "include_colab_link": true
    },
    "kernelspec": {
      "name": "python3",
      "display_name": "Python 3"
    },
    "language_info": {
      "name": "python"
    }
  },
  "cells": [
    {
      "cell_type": "markdown",
      "metadata": {
        "id": "view-in-github",
        "colab_type": "text"
      },
      "source": [
        "<a href=\"https://colab.research.google.com/github/SOSAPANTA/EJERCICIOS/blob/main/Ejercicios_Variables.ipynb\" target=\"_parent\"><img src=\"https://colab.research.google.com/assets/colab-badge.svg\" alt=\"Open In Colab\"/></a>"
      ]
    },
    {
      "cell_type": "code",
      "source": [
        "import numpy as np"
      ],
      "metadata": {
        "id": "bjhJgCB5ubkQ"
      },
      "execution_count": null,
      "outputs": []
    },
    {
      "cell_type": "markdown",
      "source": [
        "# Cuaderno 1 - ejercicios phyton\n",
        "## Andres Fernando sosapanta Lopez - 1004548702\n",
        "## 2024-1"
      ],
      "metadata": {
        "id": "viT7trhqoddK"
      }
    },
    {
      "cell_type": "markdown",
      "source": [
        "Write a program that displays the result of the following arithmetic operation on the screen: $x(t) = \\left(\\frac{3+2}{2.5}\\right)^2$"
      ],
      "metadata": {
        "id": "li-sHn3Tnjkg"
      }
    },
    {
      "cell_type": "code",
      "source": [
        "x=((3+2)/2.5)**2\n",
        "x"
      ],
      "metadata": {
        "id": "l_Dh0P6fuivX",
        "colab": {
          "base_uri": "https://localhost:8080/"
        },
        "outputId": "76a9239b-2596-40d2-fce1-7b672b0be308"
      },
      "execution_count": null,
      "outputs": [
        {
          "output_type": "execute_result",
          "data": {
            "text/plain": [
              "4.0"
            ]
          },
          "metadata": {},
          "execution_count": 1
        }
      ]
    },
    {
      "cell_type": "markdown",
      "source": [
        "Write a program that asks the user for the number of hours worked and the hourly rate. Then, it should display on the screen the corresponding payment.\n"
      ],
      "metadata": {
        "id": "EqWIFMP5npQZ"
      }
    },
    {
      "cell_type": "code",
      "source": [
        "horas=float(input(\"Dime cuantas horas trabajaste: \"))\n",
        "valor_hora=float(input(\"Dime cuanto vale una hora de tu trabajo: \"))\n",
        "Pago=horas*valor_hora\n",
        "print(\"como trabajste \", horas, \"horas, Entonces tu pago es: \", Pago)"
      ],
      "metadata": {
        "id": "UCnGKDpYo1Sd"
      },
      "execution_count": null,
      "outputs": []
    },
    {
      "cell_type": "markdown",
      "source": [
        "Write a program that asks the user for their weight (in kg) and height (in meters), calculates the body mass index (BMI), stores it in a variable, and displays the message \"Your body mass index is imc\" on the screen, where imc is the calculated BMI rounded to two decimal places.\n"
      ],
      "metadata": {
        "id": "4PScoFWtnxBD"
      }
    },
    {
      "cell_type": "code",
      "source": [
        "peso = float(input(\"Ingresa tu peso en kg: \"))\n",
        "altura = float(input(\"Ingresa tu altura en metros: \"))\n",
        "imc = peso / (altura ** 2)\n",
        "imc = round(imc, 2)\n",
        "print(\"Tu índice de masa corporal es\", imc)"
      ],
      "metadata": {
        "colab": {
          "base_uri": "https://localhost:8080/"
        },
        "id": "xfG_kdrzwJtn",
        "outputId": "4c07b30c-c7d5-4e97-b156-eff6ba0f291c"
      },
      "execution_count": null,
      "outputs": [
        {
          "output_type": "stream",
          "name": "stdout",
          "text": [
            "Ingresa tu peso en kg: 10\n",
            "Ingresa tu altura en metros: 10\n",
            "Tu índice de masa corporal es 0.1\n"
          ]
        }
      ]
    }
  ]
}